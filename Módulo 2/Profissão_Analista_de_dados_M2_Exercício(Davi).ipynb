{
  "nbformat": 4,
  "nbformat_minor": 0,
  "metadata": {
    "colab": {
      "provenance": [],
      "toc_visible": true
    },
    "kernelspec": {
      "name": "python3",
      "display_name": "Python 3"
    }
  },
  "cells": [
    {
      "cell_type": "markdown",
      "metadata": {
        "id": "KJqp9AANOCtf"
      },
      "source": [
        "<img src=\"https://raw.githubusercontent.com/andre-marcos-perez/ebac-course-utils/main/media/logo/newebac_logo_black_half.png\" alt=\"ebac-logo\">\n",
        "\n",
        "---\n",
        "\n",
        "# **Módulo** | Python: Estruturas de Dados\n",
        "Caderno de **Exercícios**<br> \n",
        "Professor [André Perez](https://www.linkedin.com/in/andremarcosperez/)\n",
        "\n",
        "---"
      ]
    },
    {
      "cell_type": "markdown",
      "metadata": {
        "id": "d9jDtUbDOE1-"
      },
      "source": [
        "# **Tópicos**\n",
        "\n",
        "<ol type=\"1\">\n",
        "  <li>Listas;</li>\n",
        "  <li>Conjuntos;</li>\n",
        "  <li>Dicionários.</li>\n",
        "</ol>"
      ]
    },
    {
      "cell_type": "markdown",
      "metadata": {
        "id": "SmoHgt-lwkpD"
      },
      "source": [
        "---"
      ]
    },
    {
      "cell_type": "markdown",
      "metadata": {
        "id": "GABI6OW8OfQ2"
      },
      "source": [
        "# **Exercícios**"
      ]
    },
    {
      "cell_type": "markdown",
      "metadata": {
        "id": "muD1vxozykSC"
      },
      "source": [
        "## 1\\. Listas"
      ]
    },
    {
      "cell_type": "markdown",
      "metadata": {
        "id": "ahrFfCuBxJKs"
      },
      "source": [
        "Criei uma lista chamada `filmes` com o nome dos 10 primeiros filmes mais bem avaliados no site no [IMDB](https://www.imdb.com/chart/top/). Imprima o resultado."
      ]
    },
    {
      "cell_type": "code",
      "metadata": {
        "id": "OgL6Hv3bzOHI",
        "colab": {
          "base_uri": "https://localhost:8080/"
        },
        "outputId": "2df1f3d0-1136-4622-df29-7ee50476b1da"
      },
      "source": [
        "filmes = [\n",
        "    'Um Sonho de Liberdade',\n",
        "    'O Poderoso Chefão',\n",
        "    'Batman: O Cavaleiro das Trevas',\n",
        "    'A Lista de Schindler',\n",
        "    '12 Homens e uma Sentença',\n",
        "    'O Poderoso Chefão II',\n",
        "    'O Senhor dos Anéis: O Retorno do Rei',\n",
        "    'Pulp Fiction: Tempo de Violência',\n",
        "    'A Origem',\n",
        "    'Forrest Gump: O Contador de Histórias'\n",
        "]\n",
        "\n",
        "qt_elementos = len(filmes)\n",
        "print(filmes)\n",
        "print(qt_elementos)"
      ],
      "execution_count": 16,
      "outputs": [
        {
          "output_type": "stream",
          "name": "stdout",
          "text": [
            "['Um Sonho de Liberdade', 'O Poderoso Chefão', 'Batman: O Cavaleiro das Trevas', 'A Lista de Schindler', '12 Homens e uma Sentença', 'O Poderoso Chefão II', 'O Senhor dos Anéis: O Retorno do Rei', 'Pulp Fiction: Tempo de Violência', 'A Origem', 'Forrest Gump: O Contador de Histórias']\n",
            "10\n"
          ]
        }
      ]
    },
    {
      "cell_type": "markdown",
      "metadata": {
        "id": "KI9zQRT2xa7m"
      },
      "source": [
        "Simule a movimentação do *ranking*. Utilize os métodos `insert` e `pop` para trocar a posição do primeiro e do segundo filme da lista. Imprima o resultado.\n",
        "\n"
      ]
    },
    {
      "cell_type": "code",
      "metadata": {
        "id": "zX3mA3_GzrXH",
        "colab": {
          "base_uri": "https://localhost:8080/"
        },
        "outputId": "ccef95ac-6304-473b-f9fe-5cc25bb07af8"
      },
      "source": [
        "# Removendo o primeiro e segundo elemento da lista com o mesmo código pois, ao remover o 1º, o antigo 2º passa a ser o 1º\n",
        "primeiro_filme = filmes.pop(0)\n",
        "primeiro_filme = filmes.pop(0)\n",
        "\n",
        "# Adicionando os novos elementos com as posições invertidas\n",
        "\n",
        "filmes.insert(0,'O Poderoso Chefão')\n",
        "filmes.insert(1,'Um Sonho de Liberdade')\n",
        "\n",
        "qt_elementos = len(filmes)\n",
        "print(filmes)\n",
        "print(qt_elementos)"
      ],
      "execution_count": 17,
      "outputs": [
        {
          "output_type": "stream",
          "name": "stdout",
          "text": [
            "['O Poderoso Chefão', 'Um Sonho de Liberdade', 'Batman: O Cavaleiro das Trevas', 'A Lista de Schindler', '12 Homens e uma Sentença', 'O Poderoso Chefão II', 'O Senhor dos Anéis: O Retorno do Rei', 'Pulp Fiction: Tempo de Violência', 'A Origem', 'Forrest Gump: O Contador de Histórias']\n",
            "10\n"
          ]
        }
      ]
    },
    {
      "cell_type": "markdown",
      "metadata": {
        "id": "zMN1Q3jdwoJm"
      },
      "source": [
        "---"
      ]
    },
    {
      "cell_type": "markdown",
      "metadata": {
        "id": "lxa5L6uF0ZJE"
      },
      "source": [
        "## 2\\. Conjuntos"
      ]
    },
    {
      "cell_type": "markdown",
      "metadata": {
        "id": "9JahS2Kj0d5u"
      },
      "source": [
        "Aconteceu um erro no seu *ranking*. Simule a duplicação dos três últimos filmes da lista. Imprima o resultado."
      ]
    },
    {
      "cell_type": "code",
      "metadata": {
        "id": "BnjnLBNC6PGe",
        "colab": {
          "base_uri": "https://localhost:8080/"
        },
        "outputId": "e0ce6ec6-fe19-465b-c60c-b6a281676ed6"
      },
      "source": [
        "# Simulando a diplicação atravéz do método 'insert'\n",
        "\n",
        "filmes.insert(10,'Forrest Gump: O Contador de Histórias') \n",
        "filmes.insert(9, 'A Origem')\n",
        "filmes.insert(8, 'Pulp Fiction: Tempo de Violência')\n",
        "\n",
        "print(filmes)"
      ],
      "execution_count": 18,
      "outputs": [
        {
          "output_type": "stream",
          "name": "stdout",
          "text": [
            "['O Poderoso Chefão', 'Um Sonho de Liberdade', 'Batman: O Cavaleiro das Trevas', 'A Lista de Schindler', '12 Homens e uma Sentença', 'O Poderoso Chefão II', 'O Senhor dos Anéis: O Retorno do Rei', 'Pulp Fiction: Tempo de Violência', 'Pulp Fiction: Tempo de Violência', 'A Origem', 'A Origem', 'Forrest Gump: O Contador de Histórias', 'Forrest Gump: O Contador de Histórias']\n"
          ]
        }
      ]
    },
    {
      "cell_type": "markdown",
      "metadata": {
        "id": "suxTfCJB6ZiX"
      },
      "source": [
        "Utiliza a conversão `set` e `list` para remover os valores duplicados. Imprima o resultado. "
      ]
    },
    {
      "cell_type": "code",
      "metadata": {
        "id": "ZvUGN-0n6joM",
        "colab": {
          "base_uri": "https://localhost:8080/"
        },
        "outputId": "4c7e8898-8b60-443c-cb53-f2de1b81ec1c"
      },
      "source": [
        "# Convertendo para conjunto a fim de eliminar as duplicatas.\n",
        "\n",
        "conjunto_de_filmes = set(filmes)\n",
        "\n",
        "print(conjunto_de_filmes)\n",
        "print(type(conjunto_de_filmes))"
      ],
      "execution_count": 19,
      "outputs": [
        {
          "output_type": "stream",
          "name": "stdout",
          "text": [
            "{'A Lista de Schindler', '12 Homens e uma Sentença', 'O Senhor dos Anéis: O Retorno do Rei', 'Um Sonho de Liberdade', 'Pulp Fiction: Tempo de Violência', 'Batman: O Cavaleiro das Trevas', 'A Origem', 'Forrest Gump: O Contador de Histórias', 'O Poderoso Chefão II', 'O Poderoso Chefão'}\n",
            "<class 'set'>\n"
          ]
        }
      ]
    },
    {
      "cell_type": "code",
      "source": [
        "# Transformando o conjunto em lista novamente.\n",
        "\n",
        "filmes = list(conjunto_de_filmes)\n",
        "\n",
        "print(filmes)\n",
        "print(type(filmes))"
      ],
      "metadata": {
        "colab": {
          "base_uri": "https://localhost:8080/"
        },
        "id": "GX5YuFSWQ7it",
        "outputId": "c9a40d3b-b97a-4559-b77d-7b606d59be6e"
      },
      "execution_count": 20,
      "outputs": [
        {
          "output_type": "stream",
          "name": "stdout",
          "text": [
            "['A Lista de Schindler', '12 Homens e uma Sentença', 'O Senhor dos Anéis: O Retorno do Rei', 'Um Sonho de Liberdade', 'Pulp Fiction: Tempo de Violência', 'Batman: O Cavaleiro das Trevas', 'A Origem', 'Forrest Gump: O Contador de Histórias', 'O Poderoso Chefão II', 'O Poderoso Chefão']\n",
            "<class 'list'>\n"
          ]
        }
      ]
    },
    {
      "cell_type": "markdown",
      "metadata": {
        "id": "ShkK35eQ6pAM"
      },
      "source": [
        "---"
      ]
    },
    {
      "cell_type": "markdown",
      "metadata": {
        "id": "EL_FzmxL6rTv"
      },
      "source": [
        "## 3\\. Dicionários"
      ]
    },
    {
      "cell_type": "markdown",
      "metadata": {
        "id": "i8l0gFqRCpfT"
      },
      "source": [
        "Repita os exercícios da parte 1 (listas). Os elementos da lista `filmes` devem ser dicionários no seguinte formato: `{'nome': <nome-do-filme>, 'ano': <ano do filme>, 'sinopse': <sinopse do filme>}`. "
      ]
    },
    {
      "cell_type": "code",
      "metadata": {
        "id": "tu6MSFwGDnHv",
        "colab": {
          "base_uri": "https://localhost:8080/"
        },
        "outputId": "bd00d753-e1c3-4887-fac4-517e5b946f60"
      },
      "source": [
        "filmes = {\n",
        "    'nome1':'Um Sonho de Liberdade', 'ano1': 1994, 'sinopse1': 'Ao longo de vários anos, dois condenados formam uma amizade, buscando consolo e, eventualmente, redenção por meio da compaixão básica.',\n",
        "    'nome2':'O Poderoso Chefão', 'ano2': 1972, 'sinopse2': 'Don Vito Corleone, chefe de uma família mafiosa, decide entregar seu império a seu filho mais novo, Michael. No entanto, sua decisão involuntariamente coloca a vida de seus entes queridos em grave perigo.',\n",
        "    'nome3':'Batman: O Cavaleiro das Trevas', 'ano3': 2008, 'sinopse3': 'Quando a ameaça conhecida como Coringa causa estragos e caos no povo de Gotham, Batman deve aceitar um dos maiores testes psicológicos e físicos de sua capacidade de lutar contra a injustiça.',\n",
        "    'nome4':'A Lista de Schindler', 'ano4': 1993, 'sinopse4': 'Na Polônia ocupada pelos alemães durante a Segunda Guerra Mundial, o industrial Oskar Schindler gradualmente se preocupa com sua força de trabalho judaica depois de testemunhar sua perseguição pelos nazistas.',\n",
        "    'nome5':'12 Homens e uma Sentença', 'ano5': 1957, 'sinopse5': 'O júri em um julgamento de assassinato na cidade de Nova York é frustrado por um único membro cuja cautela cética os obriga a considerar as evidências com mais cuidado antes de pular para um veredicto apressado.',\n",
        "    'nome6':'O Poderoso Chefão II', 'ano6': 1974, 'sinopse6': 'O início da vida e a carreira de Vito Corleone na cidade de Nova York dos anos 1920 são retratados, enquanto seu filho, Michael, expande e aumenta seu controle sobre o sindicato do crime familiar.',\n",
        "    'nome7':'O Senhor dos Anéis: O Retorno do Rei', 'ano7': 2003, 'sinopse7': 'Gandalf e Aragorn lideram o Mundo dos Homens contra o exército de Sauron para desviar seu olhar de Frodo e Sam enquanto eles se aproximam do Monte da Perdição com o Um Anel.',\n",
        "    'nome8':'Pulp Fiction: Tempo de Violência', 'ano8': 1994, 'sinopse8': 'As vidas de dois assassinos da máfia, um boxeador, um gângster e sua esposa e uma dupla de bandidos se entrelaçam em quatro histórias de violência e redenção.',\n",
        "    'nome9':'A Origem', 'ano9': 2010, 'sinopse9': 'Um ladrão que rouba segredos corporativos por meio do uso da tecnologia de compartilhamento de sonhos recebe a tarefa inversa de plantar uma ideia na mente de um CEO, mas seu passado trágico pode condenar o projeto e sua equipe ao desastre.',\n",
        "    'nome10':'Forrest Gump: O Contador de Histórias', 'ano10': 1994, 'sinopse10': 'As presidências de Kennedy e Johnson, a Guerra do Vietnã, o escândalo de Watergate e outros eventos históricos se desenrolam na perspectiva de um homem do Alabama com um QI de 75, cujo único desejo é reencontrar sua namorada de infância.'\n",
        "}\n",
        "\n",
        "print(filmes)\n",
        "print(type(filmes))"
      ],
      "execution_count": 21,
      "outputs": [
        {
          "output_type": "stream",
          "name": "stdout",
          "text": [
            "{'nome1': 'Um Sonho de Liberdade', 'ano1': 1994, 'sinopse1': 'Ao longo de vários anos, dois condenados formam uma amizade, buscando consolo e, eventualmente, redenção por meio da compaixão básica.', 'nome2': 'O Poderoso Chefão', 'ano2': 1972, 'sinopse2': 'Don Vito Corleone, chefe de uma família mafiosa, decide entregar seu império a seu filho mais novo, Michael. No entanto, sua decisão involuntariamente coloca a vida de seus entes queridos em grave perigo.', 'nome3': 'Batman: O Cavaleiro das Trevas', 'ano3': 2008, 'sinopse3': 'Quando a ameaça conhecida como Coringa causa estragos e caos no povo de Gotham, Batman deve aceitar um dos maiores testes psicológicos e físicos de sua capacidade de lutar contra a injustiça.', 'nome4': 'A Lista de Schindler', 'ano4': 1993, 'sinopse4': 'Na Polônia ocupada pelos alemães durante a Segunda Guerra Mundial, o industrial Oskar Schindler gradualmente se preocupa com sua força de trabalho judaica depois de testemunhar sua perseguição pelos nazistas.', 'nome5': '12 Homens e uma Sentença', 'ano5': 1957, 'sinopse5': 'O júri em um julgamento de assassinato na cidade de Nova York é frustrado por um único membro cuja cautela cética os obriga a considerar as evidências com mais cuidado antes de pular para um veredicto apressado.', 'nome6': 'O Poderoso Chefão II', 'ano6': 1974, 'sinopse6': 'O início da vida e a carreira de Vito Corleone na cidade de Nova York dos anos 1920 são retratados, enquanto seu filho, Michael, expande e aumenta seu controle sobre o sindicato do crime familiar.', 'nome7': 'O Senhor dos Anéis: O Retorno do Rei', 'ano7': 2003, 'sinopse7': 'Gandalf e Aragorn lideram o Mundo dos Homens contra o exército de Sauron para desviar seu olhar de Frodo e Sam enquanto eles se aproximam do Monte da Perdição com o Um Anel.', 'nome8': 'Pulp Fiction: Tempo de Violência', 'ano8': 1994, 'sinopse8': 'As vidas de dois assassinos da máfia, um boxeador, um gângster e sua esposa e uma dupla de bandidos se entrelaçam em quatro histórias de violência e redenção.', 'nome9': 'A Origem', 'ano9': 2010, 'sinopse9': 'Um ladrão que rouba segredos corporativos por meio do uso da tecnologia de compartilhamento de sonhos recebe a tarefa inversa de plantar uma ideia na mente de um CEO, mas seu passado trágico pode condenar o projeto e sua equipe ao desastre.', 'nome10': 'Forrest Gump: O Contador de Histórias', 'ano10': 1994, 'sinopse10': 'As presidências de Kennedy e Johnson, a Guerra do Vietnã, o escândalo de Watergate e outros eventos históricos se desenrolam na perspectiva de um homem do Alabama com um QI de 75, cujo único desejo é reencontrar sua namorada de infância.'}\n",
            "<class 'dict'>\n"
          ]
        }
      ]
    },
    {
      "cell_type": "code",
      "source": [],
      "metadata": {
        "id": "7fU3s9xrxp6j"
      },
      "execution_count": null,
      "outputs": []
    }
  ]
}